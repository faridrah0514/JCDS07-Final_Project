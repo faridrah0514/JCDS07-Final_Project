{
 "nbformat": 4,
 "nbformat_minor": 2,
 "metadata": {
  "language_info": {
   "name": "python",
   "codemirror_mode": {
    "name": "ipython",
    "version": 3
   },
   "version": "3.7.6-final"
  },
  "orig_nbformat": 2,
  "file_extension": ".py",
  "mimetype": "text/x-python",
  "name": "python",
  "npconvert_exporter": "python",
  "pygments_lexer": "ipython3",
  "version": 3,
  "kernelspec": {
   "name": "python37664bitc6d373802fa94bc18802ec892f301229",
   "display_name": "Python 3.7.6 64-bit"
  }
 },
 "cells": [
  {
   "cell_type": "code",
   "execution_count": 1,
   "metadata": {},
   "outputs": [],
   "source": [
    "import joblib\n",
    "import pandas as pd\n",
    "import numpy as np\n",
    "\n",
    "from sklearn.feature_extraction.text import TfidfTransformer, TfidfVectorizer, CountVectorizer\n",
    "from sklearn.metrics.pairwise import cosine_similarity"
   ]
  },
  {
   "cell_type": "code",
   "execution_count": 2,
   "metadata": {},
   "outputs": [],
   "source": [
    "filename='linearsvc_model.sav'\n",
    "model = joblib.load(filename)"
   ]
  },
  {
   "cell_type": "code",
   "execution_count": 43,
   "metadata": {},
   "outputs": [
    {
     "data": {
      "text/plain": "'Technical Solutions'"
     },
     "execution_count": 43,
     "metadata": {},
     "output_type": "execute_result"
    }
   ],
   "source": [
    "skills=['java javascript html css master degree leadership']\n",
    "job_category = model.predict(skills)[0]\n",
    "job_category"
   ]
  },
  {
   "cell_type": "code",
   "execution_count": 44,
   "metadata": {},
   "outputs": [],
   "source": [
    "df = pd.read_csv('./dataset/job/job_skills_clean_final.csv')\n",
    "df_job_field = df[df['Category'] == job_category]\n",
    "job_category_qualification = df[df['Category'] == job_category]['Qualifications'].tolist()\n",
    "# len(job_category_qualification)"
   ]
  },
  {
   "cell_type": "code",
   "execution_count": 45,
   "metadata": {},
   "outputs": [],
   "source": [
    "analyze = skills + job_category_qualification"
   ]
  },
  {
   "cell_type": "code",
   "execution_count": 46,
   "metadata": {},
   "outputs": [
    {
     "data": {
      "text/plain": "[(0, 0.9999999999999997),\n (61, 0.2546428056316921),\n (77, 0.2546428056316921),\n (87, 0.2546428056316921),\n (10, 0.20447945297729905),\n (31, 0.19810721293758182)]"
     },
     "execution_count": 46,
     "metadata": {},
     "output_type": "execute_result"
    }
   ],
   "source": [
    "count_vectorize = CountVectorizer(stop_words='english')\n",
    "matrix = count_vectorize.fit_transform(analyze)\n",
    "cos_similarity = cosine_similarity(matrix)\n",
    "job_list = sorted(list(enumerate(cos_similarity[0])), key=lambda x:x[1], reverse=True)\n",
    "job_list[:6]"
   ]
  },
  {
   "cell_type": "code",
   "execution_count": 25,
   "metadata": {},
   "outputs": [
    {
     "data": {
      "text/plain": "[0, 1, 2, 3, 4]"
     },
     "execution_count": 25,
     "metadata": {},
     "output_type": "execute_result"
    }
   ],
   "source": [
    "idx = []\n",
    "for i,_ in job_list[1:6]:\n",
    "    idx.append(i-1)\n",
    "idx.sort()\n",
    "idx"
   ]
  },
  {
   "cell_type": "code",
   "execution_count": 26,
   "metadata": {},
   "outputs": [
    {
     "data": {
      "text/plain": "['Communications and Programs Manager, Google Technical Services',\n 'Program Manager/Producer, Global Hardware Marketing',\n 'Executive Briefing Manager',\n 'Communications and Programs Manager, Google Technical Services',\n 'Technical Analytics Architect, Google Cloud Online Experience']"
     },
     "execution_count": 26,
     "metadata": {},
     "output_type": "execute_result"
    }
   ],
   "source": [
    "df_job_field.iloc[idx]['Title'].tolist()"
   ]
  },
  {
   "cell_type": "code",
   "execution_count": 16,
   "metadata": {},
   "outputs": [
    {
     "data": {
      "text/plain": "['Bachelor ’ degree Business Economics Statistics Operations Research related analytical field equivalent practical experience 2 years work experience business analysis 1 year experience statistical modeling forecasting machine learning Experience R SAS Python 1 year experience developing manipulating large datasets Experience partnering consulting cross-functionally senior stakeholders Proficiency database query language e.g SQL Ability manage multiple projects ambiguous environment Strong presentation communication skills ability communicate statistical concepts explain recommendations non-experts',\n \"BA/BS degree Computer Science related software engineering field equivalent practical experience Experience across cloud computing infrastructure storage platforms data well cloud market competitive dynamics customer buying behavior Experience working technologies Machine Learning/Big Data ecosystem Ability speak write English fluently idiomatically Master 's degree Computer Science related technical technical field Experience writing code Machine Learning purposes Experience Big Data Platform/Infrastructure-as-a-Service PaaS/IaaS technologies Ability advise customers collect data given problem clean visualize extract features choose right type learning algorithm Ability explain demystify relevant techniques new Machine Learning ability advise customers making tradeoffs Ability quickly learn understand work new emerging technologies methodologies solutions cloud technology space\",\n 'BA/BS degree Computer Science related technical subject equivalent practical experience Experience web technologies HTML CSS JavaScript HTTP Experience database querying optimization Experience one programming languages including Java C++ Python Experience working managing external partners/customers MBA degree Master ’ degree Computer Science related field 2 years experience online advertising industry Customer facing experience sales sales engineering consulting related function Proven ability adapt message technical level audience comfort presenting technical materials groups size background Excellent project management skills attention detail',\n 'BA/BS degree Computer Science related technical subject equivalent practical experience Experience web technologies HTML CSS JavaScript HTTP Experience database querying optimization Experience one programming languages including Java C++ Python Experience working managing external partners/customers MBA degree Master ’ degree Computer Science related field 2 years experience online advertising industry Customer facing experience sales sales engineering consulting related function Proven ability adapt message technical level audience comfort presenting technical materials groups size background Excellent project management skills attention detail',\n 'BA/BS degree Computer Science related technical subject equivalent practical experience Experience web technologies HTML CSS JavaScript HTTP Experience database querying optimization Experience one programming languages including Java C++ Python Experience working managing external partners/customers MBA degree Master ’ degree Computer Science related field 2 years experience online advertising industry Customer facing experience sales sales engineering consulting related function Proven ability adapt message technical level audience comfort presenting technical materials groups size background Excellent project management skills attention detail']"
     },
     "execution_count": 16,
     "metadata": {},
     "output_type": "execute_result"
    }
   ],
   "source": [
    "df_job_field.iloc[idx]['Qualifications'].tolist()"
   ]
  },
  {
   "cell_type": "code",
   "execution_count": null,
   "metadata": {},
   "outputs": [],
   "source": [
    "df_job_field"
   ]
  },
  {
   "cell_type": "code",
   "execution_count": null,
   "metadata": {},
   "outputs": [],
   "source": []
  }
 ]
}