{
 "nbformat": 4,
 "nbformat_minor": 2,
 "metadata": {
  "language_info": {
   "name": "python",
   "codemirror_mode": {
    "name": "ipython",
    "version": 3
   },
   "version": "3.7.6-final"
  },
  "orig_nbformat": 2,
  "file_extension": ".py",
  "mimetype": "text/x-python",
  "name": "python",
  "npconvert_exporter": "python",
  "pygments_lexer": "ipython3",
  "version": 3,
  "kernelspec": {
   "name": "python37664bitc6d373802fa94bc18802ec892f301229",
   "display_name": "Python 3.7.6 64-bit"
  }
 },
 "cells": [
  {
   "cell_type": "code",
   "execution_count": 21,
   "metadata": {},
   "outputs": [],
   "source": [
    "import pandas as pd\n",
    "import numpy as np\n",
    "from nltk import word_tokenize\n",
    "from nltk.stem import PorterStemmer\n",
    "import seaborn as sns\n",
    "\n",
    "from sklearn.feature_extraction.text import TfidfVectorizer, TfidfTransformer, CountVectorizer\n",
    "from sklearn.pipeline import make_pipeline, Pipeline\n",
    "from sklearn.metrics import classification_report, confusion_matrix, accuracy_score, roc_auc_score, f1_score, precision_score, recall_score, balanced_accuracy_score, jaccard_score\n",
    "from sklearn.model_selection import GridSearchCV\n",
    "from sklearn.model_selection import train_test_split, KFold, cross_val_score\n",
    "\n",
    "#ML Model\n",
    "from sklearn.svm import LinearSVC, SVC\n",
    "from sklearn.neighbors import KNeighborsClassifier\n",
    "from sklearn.ensemble import GradientBoostingClassifier\n",
    "from sklearn.naive_bayes import MultinomialNB\n",
    "from sklearn.linear_model import LogisticRegression\n",
    "from sklearn.ensemble import RandomForestClassifier\n",
    "from sklearn.tree import DecisionTreeClassifier\n",
    "from xgboost import XGBClassifier\n",
    "\n",
    "#joblib\n",
    "import joblib"
   ]
  },
  {
   "cell_type": "code",
   "execution_count": 22,
   "metadata": {},
   "outputs": [
    {
     "data": {
      "text/plain": "(1235, 12)"
     },
     "execution_count": 22,
     "metadata": {},
     "output_type": "execute_result"
    }
   ],
   "source": [
    "df=pd.read_csv('./dataset/job/job_skills_clean.csv')\n",
    "df.head()\n",
    "df.shape"
   ]
  },
  {
   "cell_type": "code",
   "execution_count": 23,
   "metadata": {},
   "outputs": [],
   "source": [
    "# Combining two requirement\n",
    "df['Qualifications'] = df['Minimum_Qualifications_clean'] + ' ' + df['Preferred_Qualifications_clean']"
   ]
  },
  {
   "cell_type": "code",
   "execution_count": 24,
   "metadata": {},
   "outputs": [],
   "source": [
    "# Removing duplicate words\n",
    "def remove_dups(words):\n",
    "    word_token = word_tokenize(words)\n",
    "    ordered_token = set()\n",
    "    result=[]\n",
    "    for word in word_token:\n",
    "        if word not in ordered_token:\n",
    "            ordered_token.add(word)\n",
    "            result.append(word)\n",
    "    return ' '.join(result)"
   ]
  },
  {
   "cell_type": "code",
   "execution_count": 25,
   "metadata": {},
   "outputs": [],
   "source": [
    "#apply stemming\n",
    "def stemming(words):\n",
    "    ps = PorterStemmer()\n",
    "    ordered_token = set()\n",
    "    result=[]\n",
    "    for word in word_tokenize(words):\n",
    "        w = ps.stem(word)\n",
    "        if w not in ordered_token:\n",
    "            ordered_token.add(w)\n",
    "            result.append(w)\n",
    "    return ' '.join(result)"
   ]
  },
  {
   "cell_type": "code",
   "execution_count": 26,
   "metadata": {},
   "outputs": [],
   "source": [
    "df['Qualifications_unique'] = df['Qualifications'].apply(remove_dups)"
   ]
  },
  {
   "cell_type": "code",
   "execution_count": 27,
   "metadata": {},
   "outputs": [],
   "source": [
    "df['Qualifications_stem'] = df['Qualifications'].apply(stemming)"
   ]
  },
  {
   "cell_type": "markdown",
   "metadata": {},
   "source": [
    "### The Best (default) Model is LinearSVC with \"Qualifications\" Features"
   ]
  },
  {
   "cell_type": "code",
   "execution_count": 28,
   "metadata": {},
   "outputs": [],
   "source": [
    "cols=['Minimum_Qualifications', 'Preferred_Qualifications', 'Minimum_Qualifications_clean', 'Preferred_Qualifications_clean', 'Qualifications', 'Qualifications_unique', 'Qualifications_stem']\n",
    "target=['Category']\n",
    "scoring=['balanced_accuracy', 'f1_weighted', 'precision_weighted', 'recall_weighted']\n",
    "classifier = {\n",
    "    'lsvc': LinearSVC(),\n",
    "    'dt': DecisionTreeClassifier(),\n",
    "    'rf': RandomForestClassifier(),\n",
    "    'svc': SVC()\n",
    "}\n"
   ]
  },
  {
   "cell_type": "code",
   "execution_count": 29,
   "metadata": {},
   "outputs": [],
   "source": [
    "c ={i:[0]*len(list(classifier.keys())) for i in cols}\n",
    "for y in scoring:\n",
    "    vars()[f'df_{y}'] = pd.DataFrame(c,index=list(classifier.keys()))\n",
    "    for j in cols:\n",
    "        for i in classifier:\n",
    "            pipe = make_pipeline(\n",
    "                CountVectorizer(),\n",
    "                TfidfTransformer(),\n",
    "                classifier[i]\n",
    "            )\n",
    "            score = cross_val_score(pipe, df[j], df[target], scoring=y)\n",
    "            vars()[f'df_{y}'].loc[i,j] = np.mean(score)\n"
   ]
  },
  {
   "cell_type": "code",
   "execution_count": 30,
   "metadata": {},
   "outputs": [
    {
     "data": {
      "text/html": "<div>\n<style scoped>\n    .dataframe tbody tr th:only-of-type {\n        vertical-align: middle;\n    }\n\n    .dataframe tbody tr th {\n        vertical-align: top;\n    }\n\n    .dataframe thead th {\n        text-align: right;\n    }\n</style>\n<table border=\"1\" class=\"dataframe\">\n  <thead>\n    <tr style=\"text-align: right;\">\n      <th></th>\n      <th>lsvc</th>\n      <th>dt</th>\n      <th>rf</th>\n      <th>svc</th>\n    </tr>\n  </thead>\n  <tbody>\n    <tr>\n      <th>Minimum_Qualifications</th>\n      <td>0.700645</td>\n      <td>0.606385</td>\n      <td>0.652859</td>\n      <td>0.586730</td>\n    </tr>\n    <tr>\n      <th>Preferred_Qualifications</th>\n      <td>0.736206</td>\n      <td>0.613842</td>\n      <td>0.716719</td>\n      <td>0.598041</td>\n    </tr>\n    <tr>\n      <th>Minimum_Qualifications_clean</th>\n      <td>0.706976</td>\n      <td>0.609064</td>\n      <td>0.650512</td>\n      <td>0.593596</td>\n    </tr>\n    <tr>\n      <th>Preferred_Qualifications_clean</th>\n      <td>0.739399</td>\n      <td>0.613464</td>\n      <td>0.697115</td>\n      <td>0.604274</td>\n    </tr>\n    <tr>\n      <th>Qualifications</th>\n      <td>0.780606</td>\n      <td>0.658097</td>\n      <td>0.716395</td>\n      <td>0.637359</td>\n    </tr>\n    <tr>\n      <th>Qualifications_unique</th>\n      <td>0.779790</td>\n      <td>0.630645</td>\n      <td>0.707376</td>\n      <td>0.620711</td>\n    </tr>\n    <tr>\n      <th>Qualifications_stem</th>\n      <td>0.773403</td>\n      <td>0.662875</td>\n      <td>0.701607</td>\n      <td>0.621308</td>\n    </tr>\n  </tbody>\n</table>\n</div>",
      "text/plain": "                                    lsvc        dt        rf       svc\nMinimum_Qualifications          0.700645  0.606385  0.652859  0.586730\nPreferred_Qualifications        0.736206  0.613842  0.716719  0.598041\nMinimum_Qualifications_clean    0.706976  0.609064  0.650512  0.593596\nPreferred_Qualifications_clean  0.739399  0.613464  0.697115  0.604274\nQualifications                  0.780606  0.658097  0.716395  0.637359\nQualifications_unique           0.779790  0.630645  0.707376  0.620711\nQualifications_stem             0.773403  0.662875  0.701607  0.621308"
     },
     "execution_count": 30,
     "metadata": {},
     "output_type": "execute_result"
    }
   ],
   "source": [
    "df_balanced_accuracy.T"
   ]
  },
  {
   "cell_type": "code",
   "execution_count": 31,
   "metadata": {},
   "outputs": [
    {
     "data": {
      "text/html": "<div>\n<style scoped>\n    .dataframe tbody tr th:only-of-type {\n        vertical-align: middle;\n    }\n\n    .dataframe tbody tr th {\n        vertical-align: top;\n    }\n\n    .dataframe thead th {\n        text-align: right;\n    }\n</style>\n<table border=\"1\" class=\"dataframe\">\n  <thead>\n    <tr style=\"text-align: right;\">\n      <th></th>\n      <th>lsvc</th>\n      <th>dt</th>\n      <th>rf</th>\n      <th>svc</th>\n    </tr>\n  </thead>\n  <tbody>\n    <tr>\n      <th>Minimum_Qualifications</th>\n      <td>0.733265</td>\n      <td>0.646111</td>\n      <td>0.700265</td>\n      <td>0.701774</td>\n    </tr>\n    <tr>\n      <th>Preferred_Qualifications</th>\n      <td>0.770261</td>\n      <td>0.646180</td>\n      <td>0.744536</td>\n      <td>0.707549</td>\n    </tr>\n    <tr>\n      <th>Minimum_Qualifications_clean</th>\n      <td>0.737593</td>\n      <td>0.656153</td>\n      <td>0.703717</td>\n      <td>0.707346</td>\n    </tr>\n    <tr>\n      <th>Preferred_Qualifications_clean</th>\n      <td>0.774892</td>\n      <td>0.664496</td>\n      <td>0.750376</td>\n      <td>0.715818</td>\n    </tr>\n    <tr>\n      <th>Qualifications</th>\n      <td>0.803285</td>\n      <td>0.701540</td>\n      <td>0.767164</td>\n      <td>0.739845</td>\n    </tr>\n    <tr>\n      <th>Qualifications_unique</th>\n      <td>0.800915</td>\n      <td>0.684753</td>\n      <td>0.758026</td>\n      <td>0.732824</td>\n    </tr>\n    <tr>\n      <th>Qualifications_stem</th>\n      <td>0.800251</td>\n      <td>0.696207</td>\n      <td>0.761186</td>\n      <td>0.731000</td>\n    </tr>\n  </tbody>\n</table>\n</div>",
      "text/plain": "                                    lsvc        dt        rf       svc\nMinimum_Qualifications          0.733265  0.646111  0.700265  0.701774\nPreferred_Qualifications        0.770261  0.646180  0.744536  0.707549\nMinimum_Qualifications_clean    0.737593  0.656153  0.703717  0.707346\nPreferred_Qualifications_clean  0.774892  0.664496  0.750376  0.715818\nQualifications                  0.803285  0.701540  0.767164  0.739845\nQualifications_unique           0.800915  0.684753  0.758026  0.732824\nQualifications_stem             0.800251  0.696207  0.761186  0.731000"
     },
     "execution_count": 31,
     "metadata": {},
     "output_type": "execute_result"
    }
   ],
   "source": [
    "df_f1_weighted.T"
   ]
  },
  {
   "cell_type": "code",
   "execution_count": 32,
   "metadata": {},
   "outputs": [
    {
     "data": {
      "text/html": "<div>\n<style scoped>\n    .dataframe tbody tr th:only-of-type {\n        vertical-align: middle;\n    }\n\n    .dataframe tbody tr th {\n        vertical-align: top;\n    }\n\n    .dataframe thead th {\n        text-align: right;\n    }\n</style>\n<table border=\"1\" class=\"dataframe\">\n  <thead>\n    <tr style=\"text-align: right;\">\n      <th></th>\n      <th>lsvc</th>\n      <th>dt</th>\n      <th>rf</th>\n      <th>svc</th>\n    </tr>\n  </thead>\n  <tbody>\n    <tr>\n      <th>Minimum_Qualifications</th>\n      <td>0.747057</td>\n      <td>0.664231</td>\n      <td>0.738489</td>\n      <td>0.751674</td>\n    </tr>\n    <tr>\n      <th>Preferred_Qualifications</th>\n      <td>0.781920</td>\n      <td>0.652179</td>\n      <td>0.766373</td>\n      <td>0.769970</td>\n    </tr>\n    <tr>\n      <th>Minimum_Qualifications_clean</th>\n      <td>0.748346</td>\n      <td>0.674125</td>\n      <td>0.726261</td>\n      <td>0.753570</td>\n    </tr>\n    <tr>\n      <th>Preferred_Qualifications_clean</th>\n      <td>0.786476</td>\n      <td>0.681033</td>\n      <td>0.771439</td>\n      <td>0.773954</td>\n    </tr>\n    <tr>\n      <th>Qualifications</th>\n      <td>0.810507</td>\n      <td>0.715087</td>\n      <td>0.791318</td>\n      <td>0.785775</td>\n    </tr>\n    <tr>\n      <th>Qualifications_unique</th>\n      <td>0.810795</td>\n      <td>0.711702</td>\n      <td>0.789479</td>\n      <td>0.780909</td>\n    </tr>\n    <tr>\n      <th>Qualifications_stem</th>\n      <td>0.812735</td>\n      <td>0.704713</td>\n      <td>0.781229</td>\n      <td>0.785616</td>\n    </tr>\n  </tbody>\n</table>\n</div>",
      "text/plain": "                                    lsvc        dt        rf       svc\nMinimum_Qualifications          0.747057  0.664231  0.738489  0.751674\nPreferred_Qualifications        0.781920  0.652179  0.766373  0.769970\nMinimum_Qualifications_clean    0.748346  0.674125  0.726261  0.753570\nPreferred_Qualifications_clean  0.786476  0.681033  0.771439  0.773954\nQualifications                  0.810507  0.715087  0.791318  0.785775\nQualifications_unique           0.810795  0.711702  0.789479  0.780909\nQualifications_stem             0.812735  0.704713  0.781229  0.785616"
     },
     "execution_count": 32,
     "metadata": {},
     "output_type": "execute_result"
    }
   ],
   "source": [
    "df_precision_weighted.T"
   ]
  },
  {
   "cell_type": "code",
   "execution_count": 33,
   "metadata": {},
   "outputs": [
    {
     "data": {
      "text/html": "<div>\n<style scoped>\n    .dataframe tbody tr th:only-of-type {\n        vertical-align: middle;\n    }\n\n    .dataframe tbody tr th {\n        vertical-align: top;\n    }\n\n    .dataframe thead th {\n        text-align: right;\n    }\n</style>\n<table border=\"1\" class=\"dataframe\">\n  <thead>\n    <tr style=\"text-align: right;\">\n      <th></th>\n      <th>lsvc</th>\n      <th>dt</th>\n      <th>rf</th>\n      <th>svc</th>\n    </tr>\n  </thead>\n  <tbody>\n    <tr>\n      <th>Minimum_Qualifications</th>\n      <td>0.742510</td>\n      <td>0.651012</td>\n      <td>0.715789</td>\n      <td>0.718219</td>\n    </tr>\n    <tr>\n      <th>Preferred_Qualifications</th>\n      <td>0.778947</td>\n      <td>0.652632</td>\n      <td>0.751417</td>\n      <td>0.722267</td>\n    </tr>\n    <tr>\n      <th>Minimum_Qualifications_clean</th>\n      <td>0.747368</td>\n      <td>0.670445</td>\n      <td>0.710931</td>\n      <td>0.723077</td>\n    </tr>\n    <tr>\n      <th>Preferred_Qualifications_clean</th>\n      <td>0.782996</td>\n      <td>0.667206</td>\n      <td>0.766802</td>\n      <td>0.730364</td>\n    </tr>\n    <tr>\n      <th>Qualifications</th>\n      <td>0.811336</td>\n      <td>0.703644</td>\n      <td>0.785425</td>\n      <td>0.751417</td>\n    </tr>\n    <tr>\n      <th>Qualifications_unique</th>\n      <td>0.808907</td>\n      <td>0.694737</td>\n      <td>0.777328</td>\n      <td>0.748178</td>\n    </tr>\n    <tr>\n      <th>Qualifications_stem</th>\n      <td>0.808097</td>\n      <td>0.679352</td>\n      <td>0.770040</td>\n      <td>0.746559</td>\n    </tr>\n  </tbody>\n</table>\n</div>",
      "text/plain": "                                    lsvc        dt        rf       svc\nMinimum_Qualifications          0.742510  0.651012  0.715789  0.718219\nPreferred_Qualifications        0.778947  0.652632  0.751417  0.722267\nMinimum_Qualifications_clean    0.747368  0.670445  0.710931  0.723077\nPreferred_Qualifications_clean  0.782996  0.667206  0.766802  0.730364\nQualifications                  0.811336  0.703644  0.785425  0.751417\nQualifications_unique           0.808907  0.694737  0.777328  0.748178\nQualifications_stem             0.808097  0.679352  0.770040  0.746559"
     },
     "execution_count": 33,
     "metadata": {},
     "output_type": "execute_result"
    }
   ],
   "source": [
    "df_recall_weighted.T"
   ]
  },
  {
   "cell_type": "code",
   "execution_count": 34,
   "metadata": {},
   "outputs": [
    {
     "name": "stdout",
     "output_type": "stream",
     "text": "LinearSVC(C=1.0, class_weight=None, dual=True, fit_intercept=True,\n          intercept_scaling=1, loss='squared_hinge', max_iter=1000,\n          multi_class='ovr', penalty='l2', random_state=None, tol=0.0001,\n          verbose=0)\n"
    }
   ],
   "source": [
    "model = LinearSVC()\n",
    "print(model)"
   ]
  },
  {
   "cell_type": "code",
   "execution_count": 35,
   "metadata": {},
   "outputs": [
    {
     "data": {
      "text/plain": "GridSearchCV(cv=None, error_score=nan,\n             estimator=Pipeline(memory=None,\n                                steps=[('cv',\n                                        CountVectorizer(analyzer='word',\n                                                        binary=False,\n                                                        decode_error='strict',\n                                                        dtype=<class 'numpy.int64'>,\n                                                        encoding='utf-8',\n                                                        input='content',\n                                                        lowercase=True,\n                                                        max_df=1.0,\n                                                        max_features=None,\n                                                        min_df=1,\n                                                        ngram_range=(1, 1),\n                                                        preprocessor=None,\n                                                        stop_words=None,\n                                                        strip_accents=None,\n                                                        token_pattern='(?u...\n                                                  verbose=0))],\n                                verbose=False),\n             iid='deprecated', n_jobs=None,\n             param_grid={'lsvc__dual': [True, False],\n                         'lsvc__fit_intercept': [True, False],\n                         'lsvc__loss': ['hinge', 'squared_hinge'],\n                         'lsvc__max_iter': [10, 100, 1000],\n                         'lsvc__multi_class': ['ovr', 'crammer_singer'],\n                         'lsvc__penalty': ['l1', 'l2']},\n             pre_dispatch='2*n_jobs', refit=True, return_train_score=False,\n             scoring=None, verbose=0)"
     },
     "execution_count": 35,
     "metadata": {},
     "output_type": "execute_result"
    }
   ],
   "source": [
    "param={\n",
    "    'lsvc__penalty': ['l1', 'l2'],\n",
    "    'lsvc__loss': ['hinge', 'squared_hinge'],\n",
    "    'lsvc__dual': [True, False],\n",
    "    'lsvc__multi_class': ['ovr', 'crammer_singer'],\n",
    "    'lsvc__fit_intercept': [True, False],\n",
    "    'lsvc__max_iter': [10, 100, 1000]\n",
    "}\n",
    "\n",
    "pipe = Pipeline(steps=[\n",
    "    ('cv', CountVectorizer()),\n",
    "    ('tfidf', TfidfTransformer()),\n",
    "    ('lsvc', LinearSVC())\n",
    "])\n",
    "clf = GridSearchCV(pipe, param)\n",
    "clf.fit(df['Qualifications'], df['Category'])"
   ]
  },
  {
   "cell_type": "code",
   "execution_count": 36,
   "metadata": {},
   "outputs": [
    {
     "data": {
      "text/plain": "{'lsvc__dual': True,\n 'lsvc__fit_intercept': True,\n 'lsvc__loss': 'squared_hinge',\n 'lsvc__max_iter': 100,\n 'lsvc__multi_class': 'ovr',\n 'lsvc__penalty': 'l2'}"
     },
     "execution_count": 36,
     "metadata": {},
     "output_type": "execute_result"
    }
   ],
   "source": [
    "clf.best_params_"
   ]
  },
  {
   "cell_type": "code",
   "execution_count": 37,
   "metadata": {},
   "outputs": [
    {
     "name": "stdout",
     "output_type": "stream",
     "text": "0.7812856386231026\n"
    }
   ],
   "source": [
    "pipe=Pipeline(steps=[\n",
    "    ('cv', CountVectorizer(ngram_range=(1,3))),\n",
    "    ('tfidf', TfidfTransformer()),\n",
    "    ('lsvc', LinearSVC(loss='squared_hinge', penalty='l2', max_iter=10))\n",
    "])\n",
    "score = cross_val_score(pipe, df['Qualifications'], df['Category'], scoring='balanced_accuracy')\n",
    "print(np.mean(score))"
   ]
  },
  {
   "cell_type": "code",
   "execution_count": 38,
   "metadata": {},
   "outputs": [
    {
     "data": {
      "text/plain": "Pipeline(memory=None,\n         steps=[('cv',\n                 CountVectorizer(analyzer='word', binary=False,\n                                 decode_error='strict',\n                                 dtype=<class 'numpy.int64'>, encoding='utf-8',\n                                 input='content', lowercase=True, max_df=1.0,\n                                 max_features=None, min_df=1,\n                                 ngram_range=(1, 3), preprocessor=None,\n                                 stop_words=None, strip_accents=None,\n                                 token_pattern='(?u)\\\\b\\\\w\\\\w+\\\\b',\n                                 tokenizer=None, vocabulary=None)),\n                ('tfidf',\n                 TfidfTransformer(norm='l2', smooth_idf=True,\n                                  sublinear_tf=False, use_idf=True)),\n                ('lsvc',\n                 LinearSVC(C=1.0, class_weight=None, dual=True,\n                           fit_intercept=True, intercept_scaling=1,\n                           loss='squared_hinge', max_iter=10, multi_class='ovr',\n                           penalty='l2', random_state=None, tol=0.0001,\n                           verbose=0))],\n         verbose=False)"
     },
     "execution_count": 38,
     "metadata": {},
     "output_type": "execute_result"
    }
   ],
   "source": [
    "pipe.fit(df['Qualifications'], df['Category'])"
   ]
  },
  {
   "cell_type": "code",
   "execution_count": 39,
   "metadata": {},
   "outputs": [
    {
     "data": {
      "text/plain": "['linearsvc_model.sav']"
     },
     "execution_count": 39,
     "metadata": {},
     "output_type": "execute_result"
    }
   ],
   "source": [
    "filename = 'linearsvc_model.sav'\n",
    "joblib.dump(pipe, filename)"
   ]
  },
  {
   "cell_type": "code",
   "execution_count": 40,
   "metadata": {},
   "outputs": [],
   "source": [
    "df.drop(columns='Unnamed: 0', inplace=True)\n",
    "df.to_csv('./dataset/job/job_skills_clean_final.csv')"
   ]
  },
  {
   "cell_type": "code",
   "execution_count": null,
   "metadata": {},
   "outputs": [],
   "source": []
  }
 ]
}