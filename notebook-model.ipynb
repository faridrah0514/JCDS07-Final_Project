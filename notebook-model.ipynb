{
 "nbformat": 4,
 "nbformat_minor": 2,
 "metadata": {
  "language_info": {
   "name": "python",
   "codemirror_mode": {
    "name": "ipython",
    "version": 3
   },
   "version": "3.7.6-final"
  },
  "orig_nbformat": 2,
  "file_extension": ".py",
  "mimetype": "text/x-python",
  "name": "python",
  "npconvert_exporter": "python",
  "pygments_lexer": "ipython3",
  "version": 3,
  "kernelspec": {
   "name": "python37664bitc6d373802fa94bc18802ec892f301229",
   "display_name": "Python 3.7.6 64-bit"
  }
 },
 "cells": [
  {
   "cell_type": "code",
   "execution_count": 19,
   "metadata": {},
   "outputs": [],
   "source": [
    "import pandas as pd\n",
    "import numpy as np\n",
    "from nltk import word_tokenize\n",
    "from nltk.stem import PorterStemmer\n",
    "import seaborn as sns\n",
    "\n",
    "from sklearn.feature_extraction.text import TfidfVectorizer, TfidfTransformer, CountVectorizer\n",
    "from sklearn.pipeline import make_pipeline, Pipeline\n",
    "from sklearn.metrics import classification_report, confusion_matrix, accuracy_score, roc_auc_score, f1_score, precision_score, recall_score, balanced_accuracy_score, jaccard_score\n",
    "from sklearn.model_selection import GridSearchCV\n",
    "from sklearn.model_selection import train_test_split, KFold, cross_val_score\n",
    "\n",
    "#ML Model\n",
    "from sklearn.svm import LinearSVC, SVC\n",
    "from sklearn.neighbors import KNeighborsClassifier\n",
    "from sklearn.ensemble import GradientBoostingClassifier\n",
    "from sklearn.naive_bayes import MultinomialNB\n",
    "from sklearn.linear_model import LogisticRegression\n",
    "from sklearn.ensemble import RandomForestClassifier\n",
    "from sklearn.tree import DecisionTreeClassifier\n",
    "from xgboost import XGBClassifier\n",
    "\n",
    "#joblib\n",
    "import joblib"
   ]
  },
  {
   "cell_type": "code",
   "execution_count": 20,
   "metadata": {},
   "outputs": [
    {
     "data": {
      "text/plain": "(1235, 12)"
     },
     "execution_count": 20,
     "metadata": {},
     "output_type": "execute_result"
    }
   ],
   "source": [
    "df=pd.read_csv('./dataset/job/job_skills_clean.csv')\n",
    "df.head()\n",
    "df.shape"
   ]
  },
  {
   "cell_type": "code",
   "execution_count": 21,
   "metadata": {},
   "outputs": [],
   "source": [
    "# Combining two requirement\n",
    "df['Qualifications'] = df['Minimum_Qualifications_clean'] + ' ' + df['Preferred_Qualifications_clean']"
   ]
  },
  {
   "cell_type": "code",
   "execution_count": 22,
   "metadata": {},
   "outputs": [],
   "source": [
    "# Removing duplicate words\n",
    "def remove_dups(words):\n",
    "    word_token = word_tokenize(words)\n",
    "    ordered_token = set()\n",
    "    result=[]\n",
    "    for word in word_token:\n",
    "        if word not in ordered_token:\n",
    "            ordered_token.add(word)\n",
    "            result.append(word)\n",
    "    return ' '.join(result)"
   ]
  },
  {
   "cell_type": "code",
   "execution_count": 23,
   "metadata": {},
   "outputs": [],
   "source": [
    "#apply stemming\n",
    "def stemming(words):\n",
    "    ps = PorterStemmer()\n",
    "    ordered_token = set()\n",
    "    result=[]\n",
    "    for word in word_tokenize(words):\n",
    "        w = ps.stem(word)\n",
    "        if w not in ordered_token:\n",
    "            ordered_token.add(w)\n",
    "            result.append(w)\n",
    "    return ' '.join(result)"
   ]
  },
  {
   "cell_type": "code",
   "execution_count": 24,
   "metadata": {},
   "outputs": [],
   "source": [
    "df['Qualifications_unique'] = df['Qualifications'].apply(remove_dups)"
   ]
  },
  {
   "cell_type": "code",
   "execution_count": 25,
   "metadata": {},
   "outputs": [],
   "source": [
    "df['Qualifications_stem'] = df['Qualifications'].apply(stemming)"
   ]
  },
  {
   "cell_type": "markdown",
   "metadata": {},
   "source": [
    "### The Best (default) Model is LinearSVC with \"Qualifications\" Features"
   ]
  },
  {
   "cell_type": "code",
   "execution_count": 26,
   "metadata": {},
   "outputs": [],
   "source": [
    "cols=['Minimum_Qualifications', 'Preferred_Qualifications', 'Minimum_Qualifications_clean', 'Preferred_Qualifications_clean', 'Qualifications', 'Qualifications_unique', 'Qualifications_stem']\n",
    "target=['Category']\n",
    "scoring=['balanced_accuracy', 'f1_macro', 'jaccard_macro']\n",
    "classifier = {\n",
    "    'lsvc': LinearSVC(),\n",
    "    'dt': DecisionTreeClassifier(),\n",
    "    'rf': RandomForestClassifier(),\n",
    "    'svc': SVC()\n",
    "}\n"
   ]
  },
  {
   "cell_type": "code",
   "execution_count": 27,
   "metadata": {},
   "outputs": [],
   "source": [
    "c ={i:[0]*len(list(classifier.keys())) for i in cols}\n",
    "for y in scoring:\n",
    "    vars()[f'df_{y}'] = pd.DataFrame(c,index=list(classifier.keys()))\n",
    "    for j in cols:\n",
    "        for i in classifier:\n",
    "            pipe = make_pipeline(\n",
    "                CountVectorizer(),\n",
    "                TfidfTransformer(),\n",
    "                classifier[i]\n",
    "            )\n",
    "            score = cross_val_score(pipe, df[j], df[target], scoring=y)\n",
    "            vars()[f'df_{y}'].loc[i,j] = np.mean(score)\n"
   ]
  },
  {
   "cell_type": "code",
   "execution_count": 28,
   "metadata": {},
   "outputs": [
    {
     "data": {
      "text/html": "<div>\n<style scoped>\n    .dataframe tbody tr th:only-of-type {\n        vertical-align: middle;\n    }\n\n    .dataframe tbody tr th {\n        vertical-align: top;\n    }\n\n    .dataframe thead th {\n        text-align: right;\n    }\n</style>\n<table border=\"1\" class=\"dataframe\">\n  <thead>\n    <tr style=\"text-align: right;\">\n      <th></th>\n      <th>lsvc</th>\n      <th>dt</th>\n      <th>rf</th>\n      <th>svc</th>\n    </tr>\n  </thead>\n  <tbody>\n    <tr>\n      <th>Minimum_Qualifications</th>\n      <td>0.591487</td>\n      <td>0.464033</td>\n      <td>0.552621</td>\n      <td>0.515147</td>\n    </tr>\n    <tr>\n      <th>Preferred_Qualifications</th>\n      <td>0.637566</td>\n      <td>0.473251</td>\n      <td>0.609061</td>\n      <td>0.539063</td>\n    </tr>\n    <tr>\n      <th>Minimum_Qualifications_clean</th>\n      <td>0.591670</td>\n      <td>0.479003</td>\n      <td>0.546703</td>\n      <td>0.522432</td>\n    </tr>\n    <tr>\n      <th>Preferred_Qualifications_clean</th>\n      <td>0.640140</td>\n      <td>0.480406</td>\n      <td>0.631760</td>\n      <td>0.545649</td>\n    </tr>\n    <tr>\n      <th>Qualifications</th>\n      <td>0.688800</td>\n      <td>0.515899</td>\n      <td>0.636795</td>\n      <td>0.575789</td>\n    </tr>\n    <tr>\n      <th>Qualifications_unique</th>\n      <td>0.690955</td>\n      <td>0.496689</td>\n      <td>0.619425</td>\n      <td>0.562697</td>\n    </tr>\n    <tr>\n      <th>Qualifications_stem</th>\n      <td>0.687512</td>\n      <td>0.509490</td>\n      <td>0.615283</td>\n      <td>0.561151</td>\n    </tr>\n  </tbody>\n</table>\n</div>",
      "text/plain": "                                    lsvc        dt        rf       svc\nMinimum_Qualifications          0.591487  0.464033  0.552621  0.515147\nPreferred_Qualifications        0.637566  0.473251  0.609061  0.539063\nMinimum_Qualifications_clean    0.591670  0.479003  0.546703  0.522432\nPreferred_Qualifications_clean  0.640140  0.480406  0.631760  0.545649\nQualifications                  0.688800  0.515899  0.636795  0.575789\nQualifications_unique           0.690955  0.496689  0.619425  0.562697\nQualifications_stem             0.687512  0.509490  0.615283  0.561151"
     },
     "execution_count": 28,
     "metadata": {},
     "output_type": "execute_result"
    }
   ],
   "source": [
    "df_jaccard_macro.T"
   ]
  },
  {
   "cell_type": "code",
   "execution_count": 29,
   "metadata": {},
   "outputs": [
    {
     "data": {
      "text/html": "<div>\n<style scoped>\n    .dataframe tbody tr th:only-of-type {\n        vertical-align: middle;\n    }\n\n    .dataframe tbody tr th {\n        vertical-align: top;\n    }\n\n    .dataframe thead th {\n        text-align: right;\n    }\n</style>\n<table border=\"1\" class=\"dataframe\">\n  <thead>\n    <tr style=\"text-align: right;\">\n      <th></th>\n      <th>lsvc</th>\n      <th>dt</th>\n      <th>rf</th>\n      <th>svc</th>\n    </tr>\n  </thead>\n  <tbody>\n    <tr>\n      <th>Minimum_Qualifications</th>\n      <td>0.700645</td>\n      <td>0.610400</td>\n      <td>0.650852</td>\n      <td>0.586730</td>\n    </tr>\n    <tr>\n      <th>Preferred_Qualifications</th>\n      <td>0.736206</td>\n      <td>0.617870</td>\n      <td>0.682969</td>\n      <td>0.598041</td>\n    </tr>\n    <tr>\n      <th>Minimum_Qualifications_clean</th>\n      <td>0.706976</td>\n      <td>0.606171</td>\n      <td>0.656604</td>\n      <td>0.593596</td>\n    </tr>\n    <tr>\n      <th>Preferred_Qualifications_clean</th>\n      <td>0.739399</td>\n      <td>0.619842</td>\n      <td>0.709295</td>\n      <td>0.604274</td>\n    </tr>\n    <tr>\n      <th>Qualifications</th>\n      <td>0.780606</td>\n      <td>0.659446</td>\n      <td>0.726785</td>\n      <td>0.637359</td>\n    </tr>\n    <tr>\n      <th>Qualifications_unique</th>\n      <td>0.779790</td>\n      <td>0.624856</td>\n      <td>0.702159</td>\n      <td>0.620711</td>\n    </tr>\n    <tr>\n      <th>Qualifications_stem</th>\n      <td>0.773403</td>\n      <td>0.652312</td>\n      <td>0.711962</td>\n      <td>0.621308</td>\n    </tr>\n  </tbody>\n</table>\n</div>",
      "text/plain": "                                    lsvc        dt        rf       svc\nMinimum_Qualifications          0.700645  0.610400  0.650852  0.586730\nPreferred_Qualifications        0.736206  0.617870  0.682969  0.598041\nMinimum_Qualifications_clean    0.706976  0.606171  0.656604  0.593596\nPreferred_Qualifications_clean  0.739399  0.619842  0.709295  0.604274\nQualifications                  0.780606  0.659446  0.726785  0.637359\nQualifications_unique           0.779790  0.624856  0.702159  0.620711\nQualifications_stem             0.773403  0.652312  0.711962  0.621308"
     },
     "execution_count": 29,
     "metadata": {},
     "output_type": "execute_result"
    }
   ],
   "source": [
    "df_balanced_accuracy.T"
   ]
  },
  {
   "cell_type": "code",
   "execution_count": 30,
   "metadata": {},
   "outputs": [
    {
     "data": {
      "text/html": "<div>\n<style scoped>\n    .dataframe tbody tr th:only-of-type {\n        vertical-align: middle;\n    }\n\n    .dataframe tbody tr th {\n        vertical-align: top;\n    }\n\n    .dataframe thead th {\n        text-align: right;\n    }\n</style>\n<table border=\"1\" class=\"dataframe\">\n  <thead>\n    <tr style=\"text-align: right;\">\n      <th></th>\n      <th>lsvc</th>\n      <th>dt</th>\n      <th>rf</th>\n      <th>svc</th>\n    </tr>\n  </thead>\n  <tbody>\n    <tr>\n      <th>Minimum_Qualifications</th>\n      <td>0.694640</td>\n      <td>0.572428</td>\n      <td>0.649672</td>\n      <td>0.613846</td>\n    </tr>\n    <tr>\n      <th>Preferred_Qualifications</th>\n      <td>0.738339</td>\n      <td>0.582662</td>\n      <td>0.719869</td>\n      <td>0.630530</td>\n    </tr>\n    <tr>\n      <th>Minimum_Qualifications_clean</th>\n      <td>0.695460</td>\n      <td>0.594290</td>\n      <td>0.652080</td>\n      <td>0.620560</td>\n    </tr>\n    <tr>\n      <th>Preferred_Qualifications_clean</th>\n      <td>0.740084</td>\n      <td>0.579159</td>\n      <td>0.715390</td>\n      <td>0.636532</td>\n    </tr>\n    <tr>\n      <th>Qualifications</th>\n      <td>0.779049</td>\n      <td>0.642290</td>\n      <td>0.740633</td>\n      <td>0.669879</td>\n    </tr>\n    <tr>\n      <th>Qualifications_unique</th>\n      <td>0.780376</td>\n      <td>0.615939</td>\n      <td>0.717621</td>\n      <td>0.650701</td>\n    </tr>\n    <tr>\n      <th>Qualifications_stem</th>\n      <td>0.777070</td>\n      <td>0.636936</td>\n      <td>0.715753</td>\n      <td>0.652140</td>\n    </tr>\n  </tbody>\n</table>\n</div>",
      "text/plain": "                                    lsvc        dt        rf       svc\nMinimum_Qualifications          0.694640  0.572428  0.649672  0.613846\nPreferred_Qualifications        0.738339  0.582662  0.719869  0.630530\nMinimum_Qualifications_clean    0.695460  0.594290  0.652080  0.620560\nPreferred_Qualifications_clean  0.740084  0.579159  0.715390  0.636532\nQualifications                  0.779049  0.642290  0.740633  0.669879\nQualifications_unique           0.780376  0.615939  0.717621  0.650701\nQualifications_stem             0.777070  0.636936  0.715753  0.652140"
     },
     "execution_count": 30,
     "metadata": {},
     "output_type": "execute_result"
    }
   ],
   "source": [
    "df_f1_macro.T"
   ]
  },
  {
   "cell_type": "code",
   "execution_count": 31,
   "metadata": {},
   "outputs": [
    {
     "name": "stdout",
     "output_type": "stream",
     "text": "LinearSVC(C=1.0, class_weight=None, dual=True, fit_intercept=True,\n          intercept_scaling=1, loss='squared_hinge', max_iter=1000,\n          multi_class='ovr', penalty='l2', random_state=None, tol=0.0001,\n          verbose=0)\n"
    }
   ],
   "source": [
    "model = LinearSVC()\n",
    "print(model)"
   ]
  },
  {
   "cell_type": "code",
   "execution_count": 32,
   "metadata": {},
   "outputs": [
    {
     "data": {
      "text/plain": "GridSearchCV(cv=None, error_score=nan,\n             estimator=Pipeline(memory=None,\n                                steps=[('cv',\n                                        CountVectorizer(analyzer='word',\n                                                        binary=False,\n                                                        decode_error='strict',\n                                                        dtype=<class 'numpy.int64'>,\n                                                        encoding='utf-8',\n                                                        input='content',\n                                                        lowercase=True,\n                                                        max_df=1.0,\n                                                        max_features=None,\n                                                        min_df=1,\n                                                        ngram_range=(1, 1),\n                                                        preprocessor=None,\n                                                        stop_words=None,\n                                                        strip_accents=None,\n                                                        token_pattern='(?u...\n                                                  verbose=0))],\n                                verbose=False),\n             iid='deprecated', n_jobs=None,\n             param_grid={'lsvc__dual': [True, False],\n                         'lsvc__fit_intercept': [True, False],\n                         'lsvc__loss': ['hinge', 'squared_hinge'],\n                         'lsvc__max_iter': [10, 100, 1000],\n                         'lsvc__multi_class': ['ovr', 'crammer_singer'],\n                         'lsvc__penalty': ['l1', 'l2']},\n             pre_dispatch='2*n_jobs', refit=True, return_train_score=False,\n             scoring=None, verbose=0)"
     },
     "execution_count": 32,
     "metadata": {},
     "output_type": "execute_result"
    }
   ],
   "source": [
    "param={\n",
    "    'lsvc__penalty': ['l1', 'l2'],\n",
    "    'lsvc__loss': ['hinge', 'squared_hinge'],\n",
    "    'lsvc__dual': [True, False],\n",
    "    'lsvc__multi_class': ['ovr', 'crammer_singer'],\n",
    "    'lsvc__fit_intercept': [True, False],\n",
    "    'lsvc__max_iter': [10, 100, 1000]\n",
    "}\n",
    "\n",
    "pipe = Pipeline(steps=[\n",
    "    ('cv', CountVectorizer()),\n",
    "    ('tfidf', TfidfTransformer()),\n",
    "    ('lsvc', LinearSVC())\n",
    "])\n",
    "clf = GridSearchCV(pipe, param)\n",
    "clf.fit(df['Qualifications'], df['Category'])"
   ]
  },
  {
   "cell_type": "code",
   "execution_count": 33,
   "metadata": {},
   "outputs": [
    {
     "data": {
      "text/plain": "{'lsvc__dual': True,\n 'lsvc__fit_intercept': True,\n 'lsvc__loss': 'squared_hinge',\n 'lsvc__max_iter': 10,\n 'lsvc__multi_class': 'ovr',\n 'lsvc__penalty': 'l2'}"
     },
     "execution_count": 33,
     "metadata": {},
     "output_type": "execute_result"
    }
   ],
   "source": [
    "clf.best_params_"
   ]
  },
  {
   "cell_type": "code",
   "execution_count": 34,
   "metadata": {},
   "outputs": [
    {
     "name": "stdout",
     "output_type": "stream",
     "text": "0.782083902592722\n"
    }
   ],
   "source": [
    "pipe=Pipeline(steps=[\n",
    "    ('cv', CountVectorizer(ngram_range=(1,3))),\n",
    "    ('tfidf', TfidfTransformer()),\n",
    "    ('lsvc', LinearSVC(loss='squared_hinge', penalty='l2', max_iter=10))\n",
    "])\n",
    "score = cross_val_score(pipe, df['Qualifications'], df['Category'], scoring='balanced_accuracy')\n",
    "print(np.mean(score))"
   ]
  },
  {
   "cell_type": "code",
   "execution_count": 35,
   "metadata": {},
   "outputs": [
    {
     "data": {
      "text/plain": "Pipeline(memory=None,\n         steps=[('cv',\n                 CountVectorizer(analyzer='word', binary=False,\n                                 decode_error='strict',\n                                 dtype=<class 'numpy.int64'>, encoding='utf-8',\n                                 input='content', lowercase=True, max_df=1.0,\n                                 max_features=None, min_df=1,\n                                 ngram_range=(1, 3), preprocessor=None,\n                                 stop_words=None, strip_accents=None,\n                                 token_pattern='(?u)\\\\b\\\\w\\\\w+\\\\b',\n                                 tokenizer=None, vocabulary=None)),\n                ('tfidf',\n                 TfidfTransformer(norm='l2', smooth_idf=True,\n                                  sublinear_tf=False, use_idf=True)),\n                ('lsvc',\n                 LinearSVC(C=1.0, class_weight=None, dual=True,\n                           fit_intercept=True, intercept_scaling=1,\n                           loss='squared_hinge', max_iter=10, multi_class='ovr',\n                           penalty='l2', random_state=None, tol=0.0001,\n                           verbose=0))],\n         verbose=False)"
     },
     "execution_count": 35,
     "metadata": {},
     "output_type": "execute_result"
    }
   ],
   "source": [
    "pipe.fit(df['Qualifications'], df['Category'])"
   ]
  },
  {
   "cell_type": "code",
   "execution_count": 36,
   "metadata": {},
   "outputs": [
    {
     "data": {
      "text/plain": "['linearsvc_model.sav']"
     },
     "execution_count": 36,
     "metadata": {},
     "output_type": "execute_result"
    }
   ],
   "source": [
    "filename = 'linearsvc_model.sav'\n",
    "joblib.dump(pipe, filename)"
   ]
  },
  {
   "cell_type": "code",
   "execution_count": 40,
   "metadata": {},
   "outputs": [],
   "source": [
    "df.drop(columns='Unnamed: 0', inplace=True)\n",
    "df.to_csv('./dataset/job/job_skills_clean_final.csv')"
   ]
  },
  {
   "cell_type": "code",
   "execution_count": null,
   "metadata": {},
   "outputs": [],
   "source": []
  }
 ]
}